{
 "cells": [
  {
   "cell_type": "code",
   "execution_count": 2,
   "id": "5ec35ad2",
   "metadata": {},
   "outputs": [],
   "source": [
    "# Loading libraries\n",
    "import pandas as pd\n",
    "import numpy as np\n",
    "import os\n",
    "import seaborn as sns\n",
    "import matplotlib.pyplot as plt\n"
   ]
  },
  {
   "cell_type": "code",
   "execution_count": 3,
   "id": "018a79ac",
   "metadata": {},
   "outputs": [],
   "source": [
    "path =r'C:\\Users\\marig\\OneDrive\\Área de Trabalho\\curso arbeitsamt\\data immersion\\achievement 6\\data sources\\final project\\Data\\Original Data\\infectious_diseases_outbreaks_cdc'"
   ]
  },
  {
   "cell_type": "code",
   "execution_count": 4,
   "id": "eb1eee41",
   "metadata": {},
   "outputs": [],
   "source": [
    "food_df_1 = pd.read_csv(os.path.join (path, 'food_outbreaks_cdc.csv'))"
   ]
  },
  {
   "cell_type": "markdown",
   "id": "eb2de5a9",
   "metadata": {},
   "source": [
    "## Checking the data shape"
   ]
  },
  {
   "cell_type": "code",
   "execution_count": 5,
   "id": "9290fb98",
   "metadata": {},
   "outputs": [
    {
     "data": {
      "text/plain": [
       "(8703, 16)"
      ]
     },
     "execution_count": 5,
     "metadata": {},
     "output_type": "execute_result"
    }
   ],
   "source": [
    "food_df_1.shape"
   ]
  },
  {
   "cell_type": "code",
   "execution_count": 6,
   "id": "c0cb6446",
   "metadata": {},
   "outputs": [
    {
     "data": {
      "text/html": [
       "<div>\n",
       "<style scoped>\n",
       "    .dataframe tbody tr th:only-of-type {\n",
       "        vertical-align: middle;\n",
       "    }\n",
       "\n",
       "    .dataframe tbody tr th {\n",
       "        vertical-align: top;\n",
       "    }\n",
       "\n",
       "    .dataframe thead th {\n",
       "        text-align: right;\n",
       "    }\n",
       "</style>\n",
       "<table border=\"1\" class=\"dataframe\">\n",
       "  <thead>\n",
       "    <tr style=\"text-align: right;\">\n",
       "      <th></th>\n",
       "      <th>Year</th>\n",
       "      <th>Month</th>\n",
       "      <th>State</th>\n",
       "      <th>Primary Mode</th>\n",
       "      <th>Etiology</th>\n",
       "      <th>Serotype or Genotype</th>\n",
       "      <th>Etiology Status</th>\n",
       "      <th>Setting</th>\n",
       "      <th>Illnesses</th>\n",
       "      <th>Hospitalizations</th>\n",
       "      <th>Info on Hospitalizations</th>\n",
       "      <th>Deaths</th>\n",
       "      <th>Info on Deaths</th>\n",
       "      <th>Food Vehicle</th>\n",
       "      <th>Food Contaminated Ingredient</th>\n",
       "      <th>IFSAC Category</th>\n",
       "    </tr>\n",
       "  </thead>\n",
       "  <tbody>\n",
       "    <tr>\n",
       "      <th>0</th>\n",
       "      <td>2011</td>\n",
       "      <td>1</td>\n",
       "      <td>Ohio</td>\n",
       "      <td>Food</td>\n",
       "      <td>NaN</td>\n",
       "      <td>NaN</td>\n",
       "      <td>NaN</td>\n",
       "      <td>Restaurant - Sit-down dining</td>\n",
       "      <td>2</td>\n",
       "      <td>0.0</td>\n",
       "      <td>2.0</td>\n",
       "      <td>0.0</td>\n",
       "      <td>2.0</td>\n",
       "      <td>pie</td>\n",
       "      <td>NaN</td>\n",
       "      <td>Multiple</td>\n",
       "    </tr>\n",
       "    <tr>\n",
       "      <th>1</th>\n",
       "      <td>2011</td>\n",
       "      <td>1</td>\n",
       "      <td>Ohio</td>\n",
       "      <td>Food</td>\n",
       "      <td>Norovirus Genogroup II</td>\n",
       "      <td>GII.4 New Orleans</td>\n",
       "      <td>Suspected</td>\n",
       "      <td>Restaurant - Sit-down dining</td>\n",
       "      <td>2</td>\n",
       "      <td>0.0</td>\n",
       "      <td>2.0</td>\n",
       "      <td>0.0</td>\n",
       "      <td>2.0</td>\n",
       "      <td>NaN</td>\n",
       "      <td>NaN</td>\n",
       "      <td>NaN</td>\n",
       "    </tr>\n",
       "    <tr>\n",
       "      <th>2</th>\n",
       "      <td>2011</td>\n",
       "      <td>1</td>\n",
       "      <td>Virginia</td>\n",
       "      <td>Food</td>\n",
       "      <td>Norovirus</td>\n",
       "      <td>NaN</td>\n",
       "      <td>Suspected</td>\n",
       "      <td>Restaurant - Sit-down dining</td>\n",
       "      <td>7</td>\n",
       "      <td>0.0</td>\n",
       "      <td>7.0</td>\n",
       "      <td>0.0</td>\n",
       "      <td>7.0</td>\n",
       "      <td>NaN</td>\n",
       "      <td>NaN</td>\n",
       "      <td>NaN</td>\n",
       "    </tr>\n",
       "    <tr>\n",
       "      <th>3</th>\n",
       "      <td>2011</td>\n",
       "      <td>1</td>\n",
       "      <td>Texas</td>\n",
       "      <td>Food</td>\n",
       "      <td>NaN</td>\n",
       "      <td>NaN</td>\n",
       "      <td>NaN</td>\n",
       "      <td>NaN</td>\n",
       "      <td>2</td>\n",
       "      <td>0.0</td>\n",
       "      <td>2.0</td>\n",
       "      <td>0.0</td>\n",
       "      <td>2.0</td>\n",
       "      <td>NaN</td>\n",
       "      <td>NaN</td>\n",
       "      <td>NaN</td>\n",
       "    </tr>\n",
       "    <tr>\n",
       "      <th>4</th>\n",
       "      <td>2011</td>\n",
       "      <td>1</td>\n",
       "      <td>Colorado</td>\n",
       "      <td>Food</td>\n",
       "      <td>Norovirus unknown</td>\n",
       "      <td>NaN</td>\n",
       "      <td>Confirmed</td>\n",
       "      <td>Grocery store</td>\n",
       "      <td>8</td>\n",
       "      <td>1.0</td>\n",
       "      <td>8.0</td>\n",
       "      <td>0.0</td>\n",
       "      <td>8.0</td>\n",
       "      <td>mixed fruit</td>\n",
       "      <td>NaN</td>\n",
       "      <td>Fruits</td>\n",
       "    </tr>\n",
       "  </tbody>\n",
       "</table>\n",
       "</div>"
      ],
      "text/plain": [
       "   Year  Month     State Primary Mode                Etiology  \\\n",
       "0  2011      1      Ohio         Food                     NaN   \n",
       "1  2011      1      Ohio         Food  Norovirus Genogroup II   \n",
       "2  2011      1  Virginia         Food               Norovirus   \n",
       "3  2011      1     Texas         Food                     NaN   \n",
       "4  2011      1  Colorado         Food       Norovirus unknown   \n",
       "\n",
       "  Serotype or Genotype Etiology Status                       Setting  \\\n",
       "0                  NaN             NaN  Restaurant - Sit-down dining   \n",
       "1    GII.4 New Orleans       Suspected  Restaurant - Sit-down dining   \n",
       "2                  NaN       Suspected  Restaurant - Sit-down dining   \n",
       "3                  NaN             NaN                           NaN   \n",
       "4                  NaN       Confirmed                 Grocery store   \n",
       "\n",
       "   Illnesses  Hospitalizations  Info on Hospitalizations  Deaths  \\\n",
       "0          2               0.0                       2.0     0.0   \n",
       "1          2               0.0                       2.0     0.0   \n",
       "2          7               0.0                       7.0     0.0   \n",
       "3          2               0.0                       2.0     0.0   \n",
       "4          8               1.0                       8.0     0.0   \n",
       "\n",
       "   Info on Deaths Food Vehicle Food Contaminated Ingredient IFSAC Category  \n",
       "0             2.0          pie                          NaN       Multiple  \n",
       "1             2.0          NaN                          NaN            NaN  \n",
       "2             7.0          NaN                          NaN            NaN  \n",
       "3             2.0          NaN                          NaN            NaN  \n",
       "4             8.0  mixed fruit                          NaN         Fruits  "
      ]
     },
     "execution_count": 6,
     "metadata": {},
     "output_type": "execute_result"
    }
   ],
   "source": [
    "food_df_1.head()"
   ]
  },
  {
   "cell_type": "code",
   "execution_count": 7,
   "id": "b7902741",
   "metadata": {},
   "outputs": [
    {
     "name": "stdout",
     "output_type": "stream",
     "text": [
      "<class 'pandas.core.frame.DataFrame'>\n",
      "RangeIndex: 8703 entries, 0 to 8702\n",
      "Data columns (total 16 columns):\n",
      " #   Column                        Non-Null Count  Dtype  \n",
      "---  ------                        --------------  -----  \n",
      " 0   Year                          8703 non-null   int64  \n",
      " 1   Month                         8703 non-null   int64  \n",
      " 2   State                         8703 non-null   object \n",
      " 3   Primary Mode                  8703 non-null   object \n",
      " 4   Etiology                      6672 non-null   object \n",
      " 5   Serotype or Genotype          2747 non-null   object \n",
      " 6   Etiology Status               6672 non-null   object \n",
      " 7   Setting                       8335 non-null   object \n",
      " 8   Illnesses                     8703 non-null   int64  \n",
      " 9   Hospitalizations              8545 non-null   float64\n",
      " 10  Info on Hospitalizations      8527 non-null   float64\n",
      " 11  Deaths                        8578 non-null   float64\n",
      " 12  Info on Deaths                8535 non-null   float64\n",
      " 13  Food Vehicle                  3634 non-null   object \n",
      " 14  Food Contaminated Ingredient  1393 non-null   object \n",
      " 15  IFSAC Category                3629 non-null   object \n",
      "dtypes: float64(4), int64(3), object(9)\n",
      "memory usage: 1.1+ MB\n"
     ]
    }
   ],
   "source": [
    "food_df_1.info()"
   ]
  },
  {
   "cell_type": "markdown",
   "id": "75b27b41",
   "metadata": {},
   "source": [
    "## Data consistency checks"
   ]
  },
  {
   "cell_type": "code",
   "execution_count": 8,
   "id": "74ccf210",
   "metadata": {},
   "outputs": [],
   "source": [
    "# #changing variables that are not necessary for descriptive analysis to string\n",
    "food_df_1 ['Year']= food_df_1 ['Year'].astype('string')\n"
   ]
  },
  {
   "cell_type": "code",
   "execution_count": 9,
   "id": "cd81014f",
   "metadata": {},
   "outputs": [],
   "source": [
    "food_df_1 ['Month'] = food_df_1 ['Month'].astype ('string')"
   ]
  },
  {
   "cell_type": "markdown",
   "id": "06fe45f9",
   "metadata": {},
   "source": [
    "## Descriptive Analysis"
   ]
  },
  {
   "cell_type": "code",
   "execution_count": 10,
   "id": "1c8e8407",
   "metadata": {},
   "outputs": [
    {
     "data": {
      "text/html": [
       "<div>\n",
       "<style scoped>\n",
       "    .dataframe tbody tr th:only-of-type {\n",
       "        vertical-align: middle;\n",
       "    }\n",
       "\n",
       "    .dataframe tbody tr th {\n",
       "        vertical-align: top;\n",
       "    }\n",
       "\n",
       "    .dataframe thead th {\n",
       "        text-align: right;\n",
       "    }\n",
       "</style>\n",
       "<table border=\"1\" class=\"dataframe\">\n",
       "  <thead>\n",
       "    <tr style=\"text-align: right;\">\n",
       "      <th></th>\n",
       "      <th>Illnesses</th>\n",
       "      <th>Hospitalizations</th>\n",
       "      <th>Info on Hospitalizations</th>\n",
       "      <th>Deaths</th>\n",
       "      <th>Info on Deaths</th>\n",
       "    </tr>\n",
       "  </thead>\n",
       "  <tbody>\n",
       "    <tr>\n",
       "      <th>count</th>\n",
       "      <td>8703.000000</td>\n",
       "      <td>8545.000000</td>\n",
       "      <td>8527.000000</td>\n",
       "      <td>8578.000000</td>\n",
       "      <td>8535.000000</td>\n",
       "    </tr>\n",
       "    <tr>\n",
       "      <th>mean</th>\n",
       "      <td>16.868896</td>\n",
       "      <td>1.256641</td>\n",
       "      <td>14.495250</td>\n",
       "      <td>0.033691</td>\n",
       "      <td>14.778325</td>\n",
       "    </tr>\n",
       "    <tr>\n",
       "      <th>std</th>\n",
       "      <td>39.295911</td>\n",
       "      <td>6.810265</td>\n",
       "      <td>33.618675</td>\n",
       "      <td>0.441951</td>\n",
       "      <td>32.389580</td>\n",
       "    </tr>\n",
       "    <tr>\n",
       "      <th>min</th>\n",
       "      <td>2.000000</td>\n",
       "      <td>0.000000</td>\n",
       "      <td>0.000000</td>\n",
       "      <td>0.000000</td>\n",
       "      <td>0.000000</td>\n",
       "    </tr>\n",
       "    <tr>\n",
       "      <th>25%</th>\n",
       "      <td>3.000000</td>\n",
       "      <td>0.000000</td>\n",
       "      <td>3.000000</td>\n",
       "      <td>0.000000</td>\n",
       "      <td>3.000000</td>\n",
       "    </tr>\n",
       "    <tr>\n",
       "      <th>50%</th>\n",
       "      <td>7.000000</td>\n",
       "      <td>0.000000</td>\n",
       "      <td>6.000000</td>\n",
       "      <td>0.000000</td>\n",
       "      <td>6.000000</td>\n",
       "    </tr>\n",
       "    <tr>\n",
       "      <th>75%</th>\n",
       "      <td>17.000000</td>\n",
       "      <td>1.000000</td>\n",
       "      <td>14.000000</td>\n",
       "      <td>0.000000</td>\n",
       "      <td>15.000000</td>\n",
       "    </tr>\n",
       "    <tr>\n",
       "      <th>max</th>\n",
       "      <td>1132.000000</td>\n",
       "      <td>260.000000</td>\n",
       "      <td>778.000000</td>\n",
       "      <td>33.000000</td>\n",
       "      <td>720.000000</td>\n",
       "    </tr>\n",
       "  </tbody>\n",
       "</table>\n",
       "</div>"
      ],
      "text/plain": [
       "         Illnesses  Hospitalizations  Info on Hospitalizations       Deaths  \\\n",
       "count  8703.000000       8545.000000               8527.000000  8578.000000   \n",
       "mean     16.868896          1.256641                 14.495250     0.033691   \n",
       "std      39.295911          6.810265                 33.618675     0.441951   \n",
       "min       2.000000          0.000000                  0.000000     0.000000   \n",
       "25%       3.000000          0.000000                  3.000000     0.000000   \n",
       "50%       7.000000          0.000000                  6.000000     0.000000   \n",
       "75%      17.000000          1.000000                 14.000000     0.000000   \n",
       "max    1132.000000        260.000000                778.000000    33.000000   \n",
       "\n",
       "       Info on Deaths  \n",
       "count     8535.000000  \n",
       "mean        14.778325  \n",
       "std         32.389580  \n",
       "min          0.000000  \n",
       "25%          3.000000  \n",
       "50%          6.000000  \n",
       "75%         15.000000  \n",
       "max        720.000000  "
      ]
     },
     "execution_count": 10,
     "metadata": {},
     "output_type": "execute_result"
    }
   ],
   "source": [
    "food_df_1.describe()"
   ]
  },
  {
   "cell_type": "markdown",
   "id": "f31a19ab",
   "metadata": {},
   "source": [
    "## Checking mixed data types"
   ]
  },
  {
   "cell_type": "code",
   "execution_count": 11,
   "id": "2bc6a246",
   "metadata": {},
   "outputs": [
    {
     "name": "stdout",
     "output_type": "stream",
     "text": [
      "Etiology\n",
      "Serotype or Genotype\n",
      "Etiology Status\n",
      "Setting\n",
      "Food Vehicle\n",
      "Food Contaminated Ingredient\n",
      "IFSAC Category\n"
     ]
    }
   ],
   "source": [
    "for col in food_df_1.columns.tolist():\n",
    "  weird = (food_df_1[[col]].applymap(type) != food_df_1[[col]].iloc[0].apply(type)).any(axis = 1)\n",
    "  if len (food_df_1[weird]) > 0:\n",
    "    print (col)"
   ]
  },
  {
   "cell_type": "code",
   "execution_count": 12,
   "id": "f9bb1dbf",
   "metadata": {},
   "outputs": [],
   "source": [
    "# Fixing datatypes\n",
    "food_df_1 ['Etiology'] = food_df_1['Etiology'].astype('str')"
   ]
  },
  {
   "cell_type": "code",
   "execution_count": 13,
   "id": "c6057e6f",
   "metadata": {},
   "outputs": [],
   "source": [
    "food_df_1 ['Serotype or Genotype'] = food_df_1['Serotype or Genotype'].astype('str')"
   ]
  },
  {
   "cell_type": "code",
   "execution_count": 14,
   "id": "f15cc673",
   "metadata": {},
   "outputs": [],
   "source": [
    "food_df_1 ['Etiology Status'] = food_df_1['Etiology Status'].astype('str')"
   ]
  },
  {
   "cell_type": "code",
   "execution_count": 15,
   "id": "0c2ffb1e",
   "metadata": {},
   "outputs": [],
   "source": [
    "food_df_1 ['Setting'] = food_df_1['Setting'].astype('str')"
   ]
  },
  {
   "cell_type": "code",
   "execution_count": 16,
   "id": "f85b5e2d",
   "metadata": {},
   "outputs": [],
   "source": [
    "food_df_1 ['Food Vehicle'] = food_df_1['Food Vehicle'].astype('str')"
   ]
  },
  {
   "cell_type": "code",
   "execution_count": 17,
   "id": "a3b16070",
   "metadata": {},
   "outputs": [],
   "source": [
    "food_df_1 ['Food Contaminated Ingredient'] = food_df_1['Food Contaminated Ingredient'].astype('str')"
   ]
  },
  {
   "cell_type": "code",
   "execution_count": 18,
   "id": "bfdf3484",
   "metadata": {},
   "outputs": [],
   "source": [
    "food_df_1 ['IFSAC Category'] = food_df_1['IFSAC Category'].astype('str')"
   ]
  },
  {
   "cell_type": "markdown",
   "id": "7e8d9b1b",
   "metadata": {},
   "source": [
    "## Missing Values\n"
   ]
  },
  {
   "cell_type": "code",
   "execution_count": 19,
   "id": "929a0ab3",
   "metadata": {},
   "outputs": [
    {
     "data": {
      "text/plain": [
       "Year                              0\n",
       "Month                             0\n",
       "State                             0\n",
       "Primary Mode                      0\n",
       "Etiology                          0\n",
       "Serotype or Genotype              0\n",
       "Etiology Status                   0\n",
       "Setting                           0\n",
       "Illnesses                         0\n",
       "Hospitalizations                158\n",
       "Info on Hospitalizations        176\n",
       "Deaths                          125\n",
       "Info on Deaths                  168\n",
       "Food Vehicle                      0\n",
       "Food Contaminated Ingredient      0\n",
       "IFSAC Category                    0\n",
       "dtype: int64"
      ]
     },
     "execution_count": 19,
     "metadata": {},
     "output_type": "execute_result"
    }
   ],
   "source": [
    "food_df_1.isnull().sum()"
   ]
  },
  {
   "cell_type": "code",
   "execution_count": 20,
   "id": "c37c0159",
   "metadata": {},
   "outputs": [],
   "source": [
    "# First I'm going to exclude the columns that are not necessary for the analysis: Info on Hospitalizations and Info on deaths.\n",
    "food_df_2 = food_df_1.drop (columns = ['Info on Hospitalizations'])"
   ]
  },
  {
   "cell_type": "code",
   "execution_count": 21,
   "id": "74bd0ae8",
   "metadata": {},
   "outputs": [],
   "source": [
    "food_df_2 = food_df_2.drop (columns = ['Info on Deaths'])"
   ]
  },
  {
   "cell_type": "code",
   "execution_count": 22,
   "id": "9deeaed0",
   "metadata": {},
   "outputs": [
    {
     "data": {
      "text/html": [
       "<div>\n",
       "<style scoped>\n",
       "    .dataframe tbody tr th:only-of-type {\n",
       "        vertical-align: middle;\n",
       "    }\n",
       "\n",
       "    .dataframe tbody tr th {\n",
       "        vertical-align: top;\n",
       "    }\n",
       "\n",
       "    .dataframe thead th {\n",
       "        text-align: right;\n",
       "    }\n",
       "</style>\n",
       "<table border=\"1\" class=\"dataframe\">\n",
       "  <thead>\n",
       "    <tr style=\"text-align: right;\">\n",
       "      <th></th>\n",
       "      <th>Year</th>\n",
       "      <th>Month</th>\n",
       "      <th>State</th>\n",
       "      <th>Primary Mode</th>\n",
       "      <th>Etiology</th>\n",
       "      <th>Serotype or Genotype</th>\n",
       "      <th>Etiology Status</th>\n",
       "      <th>Setting</th>\n",
       "      <th>Illnesses</th>\n",
       "      <th>Hospitalizations</th>\n",
       "      <th>Deaths</th>\n",
       "      <th>Food Vehicle</th>\n",
       "      <th>Food Contaminated Ingredient</th>\n",
       "      <th>IFSAC Category</th>\n",
       "    </tr>\n",
       "  </thead>\n",
       "  <tbody>\n",
       "    <tr>\n",
       "      <th>0</th>\n",
       "      <td>2011</td>\n",
       "      <td>1</td>\n",
       "      <td>Ohio</td>\n",
       "      <td>Food</td>\n",
       "      <td>nan</td>\n",
       "      <td>nan</td>\n",
       "      <td>nan</td>\n",
       "      <td>Restaurant - Sit-down dining</td>\n",
       "      <td>2</td>\n",
       "      <td>0.0</td>\n",
       "      <td>0.0</td>\n",
       "      <td>pie</td>\n",
       "      <td>nan</td>\n",
       "      <td>Multiple</td>\n",
       "    </tr>\n",
       "    <tr>\n",
       "      <th>1</th>\n",
       "      <td>2011</td>\n",
       "      <td>1</td>\n",
       "      <td>Ohio</td>\n",
       "      <td>Food</td>\n",
       "      <td>Norovirus Genogroup II</td>\n",
       "      <td>GII.4 New Orleans</td>\n",
       "      <td>Suspected</td>\n",
       "      <td>Restaurant - Sit-down dining</td>\n",
       "      <td>2</td>\n",
       "      <td>0.0</td>\n",
       "      <td>0.0</td>\n",
       "      <td>nan</td>\n",
       "      <td>nan</td>\n",
       "      <td>nan</td>\n",
       "    </tr>\n",
       "    <tr>\n",
       "      <th>2</th>\n",
       "      <td>2011</td>\n",
       "      <td>1</td>\n",
       "      <td>Virginia</td>\n",
       "      <td>Food</td>\n",
       "      <td>Norovirus</td>\n",
       "      <td>nan</td>\n",
       "      <td>Suspected</td>\n",
       "      <td>Restaurant - Sit-down dining</td>\n",
       "      <td>7</td>\n",
       "      <td>0.0</td>\n",
       "      <td>0.0</td>\n",
       "      <td>nan</td>\n",
       "      <td>nan</td>\n",
       "      <td>nan</td>\n",
       "    </tr>\n",
       "    <tr>\n",
       "      <th>3</th>\n",
       "      <td>2011</td>\n",
       "      <td>1</td>\n",
       "      <td>Texas</td>\n",
       "      <td>Food</td>\n",
       "      <td>nan</td>\n",
       "      <td>nan</td>\n",
       "      <td>nan</td>\n",
       "      <td>nan</td>\n",
       "      <td>2</td>\n",
       "      <td>0.0</td>\n",
       "      <td>0.0</td>\n",
       "      <td>nan</td>\n",
       "      <td>nan</td>\n",
       "      <td>nan</td>\n",
       "    </tr>\n",
       "    <tr>\n",
       "      <th>4</th>\n",
       "      <td>2011</td>\n",
       "      <td>1</td>\n",
       "      <td>Colorado</td>\n",
       "      <td>Food</td>\n",
       "      <td>Norovirus unknown</td>\n",
       "      <td>nan</td>\n",
       "      <td>Confirmed</td>\n",
       "      <td>Grocery store</td>\n",
       "      <td>8</td>\n",
       "      <td>1.0</td>\n",
       "      <td>0.0</td>\n",
       "      <td>mixed fruit</td>\n",
       "      <td>nan</td>\n",
       "      <td>Fruits</td>\n",
       "    </tr>\n",
       "  </tbody>\n",
       "</table>\n",
       "</div>"
      ],
      "text/plain": [
       "   Year Month     State Primary Mode                Etiology  \\\n",
       "0  2011     1      Ohio         Food                     nan   \n",
       "1  2011     1      Ohio         Food  Norovirus Genogroup II   \n",
       "2  2011     1  Virginia         Food               Norovirus   \n",
       "3  2011     1     Texas         Food                     nan   \n",
       "4  2011     1  Colorado         Food       Norovirus unknown   \n",
       "\n",
       "  Serotype or Genotype Etiology Status                       Setting  \\\n",
       "0                  nan             nan  Restaurant - Sit-down dining   \n",
       "1    GII.4 New Orleans       Suspected  Restaurant - Sit-down dining   \n",
       "2                  nan       Suspected  Restaurant - Sit-down dining   \n",
       "3                  nan             nan                           nan   \n",
       "4                  nan       Confirmed                 Grocery store   \n",
       "\n",
       "   Illnesses  Hospitalizations  Deaths Food Vehicle  \\\n",
       "0          2               0.0     0.0          pie   \n",
       "1          2               0.0     0.0          nan   \n",
       "2          7               0.0     0.0          nan   \n",
       "3          2               0.0     0.0          nan   \n",
       "4          8               1.0     0.0  mixed fruit   \n",
       "\n",
       "  Food Contaminated Ingredient IFSAC Category  \n",
       "0                          nan       Multiple  \n",
       "1                          nan            nan  \n",
       "2                          nan            nan  \n",
       "3                          nan            nan  \n",
       "4                          nan         Fruits  "
      ]
     },
     "execution_count": 22,
     "metadata": {},
     "output_type": "execute_result"
    }
   ],
   "source": [
    "food_df_2.head()"
   ]
  },
  {
   "cell_type": "code",
   "execution_count": 23,
   "id": "3f8e7ae7",
   "metadata": {},
   "outputs": [],
   "source": [
    "#creating a new df to show where are the missing values\n",
    "food_df_test = food_df_2 [food_df_2 ['Hospitalizations'].isnull() == True]"
   ]
  },
  {
   "cell_type": "code",
   "execution_count": 24,
   "id": "6151a0d7",
   "metadata": {},
   "outputs": [
    {
     "data": {
      "text/html": [
       "<div>\n",
       "<style scoped>\n",
       "    .dataframe tbody tr th:only-of-type {\n",
       "        vertical-align: middle;\n",
       "    }\n",
       "\n",
       "    .dataframe tbody tr th {\n",
       "        vertical-align: top;\n",
       "    }\n",
       "\n",
       "    .dataframe thead th {\n",
       "        text-align: right;\n",
       "    }\n",
       "</style>\n",
       "<table border=\"1\" class=\"dataframe\">\n",
       "  <thead>\n",
       "    <tr style=\"text-align: right;\">\n",
       "      <th></th>\n",
       "      <th>Year</th>\n",
       "      <th>Month</th>\n",
       "      <th>State</th>\n",
       "      <th>Primary Mode</th>\n",
       "      <th>Etiology</th>\n",
       "      <th>Serotype or Genotype</th>\n",
       "      <th>Etiology Status</th>\n",
       "      <th>Setting</th>\n",
       "      <th>Illnesses</th>\n",
       "      <th>Hospitalizations</th>\n",
       "      <th>Deaths</th>\n",
       "      <th>Food Vehicle</th>\n",
       "      <th>Food Contaminated Ingredient</th>\n",
       "      <th>IFSAC Category</th>\n",
       "    </tr>\n",
       "  </thead>\n",
       "  <tbody>\n",
       "    <tr>\n",
       "      <th>30</th>\n",
       "      <td>2011</td>\n",
       "      <td>2</td>\n",
       "      <td>Illinois</td>\n",
       "      <td>Food</td>\n",
       "      <td>nan</td>\n",
       "      <td>nan</td>\n",
       "      <td>nan</td>\n",
       "      <td>Private home/residence; Grocery store</td>\n",
       "      <td>13</td>\n",
       "      <td>NaN</td>\n",
       "      <td>0.0</td>\n",
       "      <td>deli meat, multiple; bread, unspecified</td>\n",
       "      <td>nan</td>\n",
       "      <td>Multiple</td>\n",
       "    </tr>\n",
       "    <tr>\n",
       "      <th>73</th>\n",
       "      <td>2011</td>\n",
       "      <td>1</td>\n",
       "      <td>Oregon</td>\n",
       "      <td>Food</td>\n",
       "      <td>Norovirus Genogroup II</td>\n",
       "      <td>nan</td>\n",
       "      <td>Confirmed</td>\n",
       "      <td>Restaurant - Sit-down dining</td>\n",
       "      <td>22</td>\n",
       "      <td>NaN</td>\n",
       "      <td>NaN</td>\n",
       "      <td>nan</td>\n",
       "      <td>nan</td>\n",
       "      <td>nan</td>\n",
       "    </tr>\n",
       "    <tr>\n",
       "      <th>174</th>\n",
       "      <td>2011</td>\n",
       "      <td>4</td>\n",
       "      <td>Massachusetts</td>\n",
       "      <td>Food</td>\n",
       "      <td>Norovirus Genogroup I</td>\n",
       "      <td>nan</td>\n",
       "      <td>Confirmed</td>\n",
       "      <td>Restaurant - Sit-down dining</td>\n",
       "      <td>197</td>\n",
       "      <td>NaN</td>\n",
       "      <td>0.0</td>\n",
       "      <td>nan</td>\n",
       "      <td>nan</td>\n",
       "      <td>nan</td>\n",
       "    </tr>\n",
       "    <tr>\n",
       "      <th>239</th>\n",
       "      <td>2011</td>\n",
       "      <td>6</td>\n",
       "      <td>Ohio</td>\n",
       "      <td>Food</td>\n",
       "      <td>nan</td>\n",
       "      <td>nan</td>\n",
       "      <td>nan</td>\n",
       "      <td>nan</td>\n",
       "      <td>5</td>\n",
       "      <td>NaN</td>\n",
       "      <td>0.0</td>\n",
       "      <td>nan</td>\n",
       "      <td>nan</td>\n",
       "      <td>nan</td>\n",
       "    </tr>\n",
       "    <tr>\n",
       "      <th>305</th>\n",
       "      <td>2011</td>\n",
       "      <td>7</td>\n",
       "      <td>Kentucky</td>\n",
       "      <td>Food</td>\n",
       "      <td>nan</td>\n",
       "      <td>nan</td>\n",
       "      <td>nan</td>\n",
       "      <td>nan</td>\n",
       "      <td>9</td>\n",
       "      <td>NaN</td>\n",
       "      <td>NaN</td>\n",
       "      <td>nan</td>\n",
       "      <td>nan</td>\n",
       "      <td>nan</td>\n",
       "    </tr>\n",
       "    <tr>\n",
       "      <th>...</th>\n",
       "      <td>...</td>\n",
       "      <td>...</td>\n",
       "      <td>...</td>\n",
       "      <td>...</td>\n",
       "      <td>...</td>\n",
       "      <td>...</td>\n",
       "      <td>...</td>\n",
       "      <td>...</td>\n",
       "      <td>...</td>\n",
       "      <td>...</td>\n",
       "      <td>...</td>\n",
       "      <td>...</td>\n",
       "      <td>...</td>\n",
       "      <td>...</td>\n",
       "    </tr>\n",
       "    <tr>\n",
       "      <th>8252</th>\n",
       "      <td>2020</td>\n",
       "      <td>11</td>\n",
       "      <td>Maine</td>\n",
       "      <td>Food</td>\n",
       "      <td>nan</td>\n",
       "      <td>nan</td>\n",
       "      <td>nan</td>\n",
       "      <td>Caterer (food prepared off-site from where ser...</td>\n",
       "      <td>75</td>\n",
       "      <td>NaN</td>\n",
       "      <td>NaN</td>\n",
       "      <td>turkey</td>\n",
       "      <td>turkey</td>\n",
       "      <td>Turkey</td>\n",
       "    </tr>\n",
       "    <tr>\n",
       "      <th>8263</th>\n",
       "      <td>2021</td>\n",
       "      <td>5</td>\n",
       "      <td>Indiana</td>\n",
       "      <td>Food</td>\n",
       "      <td>Clostridium perfringens</td>\n",
       "      <td>nan</td>\n",
       "      <td>Suspected</td>\n",
       "      <td>Private home/residence</td>\n",
       "      <td>21</td>\n",
       "      <td>NaN</td>\n",
       "      <td>0.0</td>\n",
       "      <td>nan</td>\n",
       "      <td>nan</td>\n",
       "      <td>nan</td>\n",
       "    </tr>\n",
       "    <tr>\n",
       "      <th>8535</th>\n",
       "      <td>2021</td>\n",
       "      <td>1</td>\n",
       "      <td>Washington</td>\n",
       "      <td>Food</td>\n",
       "      <td>Norovirus</td>\n",
       "      <td>nan</td>\n",
       "      <td>Suspected</td>\n",
       "      <td>Private home/residence</td>\n",
       "      <td>3</td>\n",
       "      <td>NaN</td>\n",
       "      <td>0.0</td>\n",
       "      <td>oysters, raw</td>\n",
       "      <td>oysters, raw</td>\n",
       "      <td>Mollusks</td>\n",
       "    </tr>\n",
       "    <tr>\n",
       "      <th>8601</th>\n",
       "      <td>2020</td>\n",
       "      <td>4</td>\n",
       "      <td>Ohio</td>\n",
       "      <td>Food</td>\n",
       "      <td>nan</td>\n",
       "      <td>nan</td>\n",
       "      <td>nan</td>\n",
       "      <td>Restaurant - other or unknown type</td>\n",
       "      <td>4</td>\n",
       "      <td>NaN</td>\n",
       "      <td>NaN</td>\n",
       "      <td>nan</td>\n",
       "      <td>nan</td>\n",
       "      <td>nan</td>\n",
       "    </tr>\n",
       "    <tr>\n",
       "      <th>8699</th>\n",
       "      <td>2021</td>\n",
       "      <td>8</td>\n",
       "      <td>Kansas</td>\n",
       "      <td>Food</td>\n",
       "      <td>Salmonella enterica</td>\n",
       "      <td>Enteritidis</td>\n",
       "      <td>Confirmed</td>\n",
       "      <td>Prison/jail</td>\n",
       "      <td>21</td>\n",
       "      <td>NaN</td>\n",
       "      <td>0.0</td>\n",
       "      <td>nan</td>\n",
       "      <td>nan</td>\n",
       "      <td>nan</td>\n",
       "    </tr>\n",
       "  </tbody>\n",
       "</table>\n",
       "<p>158 rows × 14 columns</p>\n",
       "</div>"
      ],
      "text/plain": [
       "      Year Month          State Primary Mode                 Etiology  \\\n",
       "30    2011     2       Illinois         Food                      nan   \n",
       "73    2011     1         Oregon         Food   Norovirus Genogroup II   \n",
       "174   2011     4  Massachusetts         Food    Norovirus Genogroup I   \n",
       "239   2011     6           Ohio         Food                      nan   \n",
       "305   2011     7       Kentucky         Food                      nan   \n",
       "...    ...   ...            ...          ...                      ...   \n",
       "8252  2020    11          Maine         Food                      nan   \n",
       "8263  2021     5        Indiana         Food  Clostridium perfringens   \n",
       "8535  2021     1     Washington         Food                Norovirus   \n",
       "8601  2020     4           Ohio         Food                      nan   \n",
       "8699  2021     8         Kansas         Food      Salmonella enterica   \n",
       "\n",
       "     Serotype or Genotype Etiology Status  \\\n",
       "30                    nan             nan   \n",
       "73                    nan       Confirmed   \n",
       "174                   nan       Confirmed   \n",
       "239                   nan             nan   \n",
       "305                   nan             nan   \n",
       "...                   ...             ...   \n",
       "8252                  nan             nan   \n",
       "8263                  nan       Suspected   \n",
       "8535                  nan       Suspected   \n",
       "8601                  nan             nan   \n",
       "8699          Enteritidis       Confirmed   \n",
       "\n",
       "                                                Setting  Illnesses  \\\n",
       "30                Private home/residence; Grocery store         13   \n",
       "73                         Restaurant - Sit-down dining         22   \n",
       "174                        Restaurant - Sit-down dining        197   \n",
       "239                                                 nan          5   \n",
       "305                                                 nan          9   \n",
       "...                                                 ...        ...   \n",
       "8252  Caterer (food prepared off-site from where ser...         75   \n",
       "8263                             Private home/residence         21   \n",
       "8535                             Private home/residence          3   \n",
       "8601                 Restaurant - other or unknown type          4   \n",
       "8699                                        Prison/jail         21   \n",
       "\n",
       "      Hospitalizations  Deaths                             Food Vehicle  \\\n",
       "30                 NaN     0.0  deli meat, multiple; bread, unspecified   \n",
       "73                 NaN     NaN                                      nan   \n",
       "174                NaN     0.0                                      nan   \n",
       "239                NaN     0.0                                      nan   \n",
       "305                NaN     NaN                                      nan   \n",
       "...                ...     ...                                      ...   \n",
       "8252               NaN     NaN                                   turkey   \n",
       "8263               NaN     0.0                                      nan   \n",
       "8535               NaN     0.0                             oysters, raw   \n",
       "8601               NaN     NaN                                      nan   \n",
       "8699               NaN     0.0                                      nan   \n",
       "\n",
       "     Food Contaminated Ingredient IFSAC Category  \n",
       "30                            nan       Multiple  \n",
       "73                            nan            nan  \n",
       "174                           nan            nan  \n",
       "239                           nan            nan  \n",
       "305                           nan            nan  \n",
       "...                           ...            ...  \n",
       "8252                       turkey         Turkey  \n",
       "8263                          nan            nan  \n",
       "8535                 oysters, raw       Mollusks  \n",
       "8601                          nan            nan  \n",
       "8699                          nan            nan  \n",
       "\n",
       "[158 rows x 14 columns]"
      ]
     },
     "execution_count": 24,
     "metadata": {},
     "output_type": "execute_result"
    }
   ],
   "source": [
    "food_df_test"
   ]
  },
  {
   "cell_type": "code",
   "execution_count": 25,
   "id": "90d38d1f",
   "metadata": {},
   "outputs": [],
   "source": [
    "# As there are few values in the columns hospitalizations and deaths that are missing, and both are numeric variables, I decided\n",
    "# to replace then with the median because it will have less chance to be influenced by outliers (I know that the outliers will exist in this dataset because some outbreaks can lead to a high number of deaths)"
   ]
  },
  {
   "cell_type": "code",
   "execution_count": 26,
   "id": "26b2eb37",
   "metadata": {},
   "outputs": [
    {
     "data": {
      "text/plain": [
       "<Axes: >"
      ]
     },
     "execution_count": 26,
     "metadata": {},
     "output_type": "execute_result"
    },
    {
     "data": {
      "image/png": "[encoded data removed]",
      "text/plain": [
       "<Figure size 640x480 with 1 Axes>"
      ]
     },
     "metadata": {},
     "output_type": "display_data"
    }
   ],
   "source": [
    "# Confirming the ouliers with boxplot\n",
    "sns.boxplot (food_df_2 ['Illnesses'])"
   ]
  },
  {
   "cell_type": "code",
   "execution_count": 27,
   "id": "5e1d1638",
   "metadata": {},
   "outputs": [
    {
     "data": {
      "text/plain": [
       "<Axes: >"
      ]
     },
     "execution_count": 27,
     "metadata": {},
     "output_type": "execute_result"
    },
    {
     "data": {
      "image/png": "[encoded data removed]",
      "text/plain": [
       "<Figure size 640x480 with 1 Axes>"
      ]
     },
     "metadata": {},
     "output_type": "display_data"
    }
   ],
   "source": [
    "sns.boxplot (food_df_1 ['Hospitalizations'])"
   ]
  },
  {
   "cell_type": "code",
   "execution_count": 28,
   "id": "1f7beca3",
   "metadata": {},
   "outputs": [
    {
     "data": {
      "text/plain": [
       "<Axes: >"
      ]
     },
     "execution_count": 28,
     "metadata": {},
     "output_type": "execute_result"
    },
    {
     "data": {
      "image/png": "[encoded data removed]",
      "text/plain": [
       "<Figure size 640x480 with 1 Axes>"
      ]
     },
     "metadata": {},
     "output_type": "display_data"
    }
   ],
   "source": [
    "sns.boxplot (food_df_1 ['Deaths'])"
   ]
  },
  {
   "cell_type": "markdown",
   "id": "be5f0768",
   "metadata": {},
   "source": [
    "The 3 Boxplot charts show us that there are many outliers in the columns Illness, Hospitalizations and Deaths. This confirms that the best option to replace here is the median."
   ]
  },
  {
   "cell_type": "code",
   "execution_count": 29,
   "id": "d72177a4",
   "metadata": {},
   "outputs": [
    {
     "name": "stderr",
     "output_type": "stream",
     "text": [
      "C:\\Users\\marig\\AppData\\Local\\Temp\\ipykernel_7584\\2009220547.py:1: FutureWarning: The default value of numeric_only in DataFrame.median is deprecated. In a future version, it will default to False. In addition, specifying 'numeric_only=None' is deprecated. Select only valid columns or specify the value of numeric_only to silence this warning.\n",
      "  food_df_2.median ()\n"
     ]
    },
    {
     "data": {
      "text/plain": [
       "Illnesses           7.0\n",
       "Hospitalizations    0.0\n",
       "Deaths              0.0\n",
       "dtype: float64"
      ]
     },
     "execution_count": 29,
     "metadata": {},
     "output_type": "execute_result"
    }
   ],
   "source": [
    "food_df_2.median ()"
   ]
  },
  {
   "cell_type": "code",
   "execution_count": 30,
   "id": "2060a4ae",
   "metadata": {},
   "outputs": [],
   "source": [
    "food_df_2['Hospitalizations'] = food_df_2['Hospitalizations'].fillna(food_df_2['Hospitalizations'].median())"
   ]
  },
  {
   "cell_type": "code",
   "execution_count": 31,
   "id": "d0d616ac",
   "metadata": {},
   "outputs": [],
   "source": [
    "food_df_2['Deaths'] = food_df_2['Deaths'].fillna(food_df_2['Deaths'].median())"
   ]
  },
  {
   "cell_type": "code",
   "execution_count": 32,
   "id": "7cf7f862",
   "metadata": {},
   "outputs": [
    {
     "data": {
      "text/plain": [
       "Year                            0\n",
       "Month                           0\n",
       "State                           0\n",
       "Primary Mode                    0\n",
       "Etiology                        0\n",
       "Serotype or Genotype            0\n",
       "Etiology Status                 0\n",
       "Setting                         0\n",
       "Illnesses                       0\n",
       "Hospitalizations                0\n",
       "Deaths                          0\n",
       "Food Vehicle                    0\n",
       "Food Contaminated Ingredient    0\n",
       "IFSAC Category                  0\n",
       "dtype: int64"
      ]
     },
     "execution_count": 32,
     "metadata": {},
     "output_type": "execute_result"
    }
   ],
   "source": [
    "food_df_2.isnull().sum()"
   ]
  },
  {
   "cell_type": "code",
   "execution_count": 33,
   "id": "f3e92db0",
   "metadata": {},
   "outputs": [
    {
     "data": {
      "text/html": [
       "<div>\n",
       "<style scoped>\n",
       "    .dataframe tbody tr th:only-of-type {\n",
       "        vertical-align: middle;\n",
       "    }\n",
       "\n",
       "    .dataframe tbody tr th {\n",
       "        vertical-align: top;\n",
       "    }\n",
       "\n",
       "    .dataframe thead th {\n",
       "        text-align: right;\n",
       "    }\n",
       "</style>\n",
       "<table border=\"1\" class=\"dataframe\">\n",
       "  <thead>\n",
       "    <tr style=\"text-align: right;\">\n",
       "      <th></th>\n",
       "      <th>Illnesses</th>\n",
       "      <th>Hospitalizations</th>\n",
       "      <th>Deaths</th>\n",
       "    </tr>\n",
       "  </thead>\n",
       "  <tbody>\n",
       "    <tr>\n",
       "      <th>count</th>\n",
       "      <td>8703.000000</td>\n",
       "      <td>8703.000000</td>\n",
       "      <td>8703.000000</td>\n",
       "    </tr>\n",
       "    <tr>\n",
       "      <th>mean</th>\n",
       "      <td>16.868896</td>\n",
       "      <td>1.233827</td>\n",
       "      <td>0.033207</td>\n",
       "    </tr>\n",
       "    <tr>\n",
       "      <th>std</th>\n",
       "      <td>39.295911</td>\n",
       "      <td>6.750241</td>\n",
       "      <td>0.438783</td>\n",
       "    </tr>\n",
       "    <tr>\n",
       "      <th>min</th>\n",
       "      <td>2.000000</td>\n",
       "      <td>0.000000</td>\n",
       "      <td>0.000000</td>\n",
       "    </tr>\n",
       "    <tr>\n",
       "      <th>25%</th>\n",
       "      <td>3.000000</td>\n",
       "      <td>0.000000</td>\n",
       "      <td>0.000000</td>\n",
       "    </tr>\n",
       "    <tr>\n",
       "      <th>50%</th>\n",
       "      <td>7.000000</td>\n",
       "      <td>0.000000</td>\n",
       "      <td>0.000000</td>\n",
       "    </tr>\n",
       "    <tr>\n",
       "      <th>75%</th>\n",
       "      <td>17.000000</td>\n",
       "      <td>1.000000</td>\n",
       "      <td>0.000000</td>\n",
       "    </tr>\n",
       "    <tr>\n",
       "      <th>max</th>\n",
       "      <td>1132.000000</td>\n",
       "      <td>260.000000</td>\n",
       "      <td>33.000000</td>\n",
       "    </tr>\n",
       "  </tbody>\n",
       "</table>\n",
       "</div>"
      ],
      "text/plain": [
       "         Illnesses  Hospitalizations       Deaths\n",
       "count  8703.000000       8703.000000  8703.000000\n",
       "mean     16.868896          1.233827     0.033207\n",
       "std      39.295911          6.750241     0.438783\n",
       "min       2.000000          0.000000     0.000000\n",
       "25%       3.000000          0.000000     0.000000\n",
       "50%       7.000000          0.000000     0.000000\n",
       "75%      17.000000          1.000000     0.000000\n",
       "max    1132.000000        260.000000    33.000000"
      ]
     },
     "execution_count": 33,
     "metadata": {},
     "output_type": "execute_result"
    }
   ],
   "source": [
    "food_df_2.describe()"
   ]
  },
  {
   "cell_type": "code",
   "execution_count": 34,
   "id": "8f921f3f",
   "metadata": {},
   "outputs": [
    {
     "data": {
      "text/plain": [
       "<Axes: >"
      ]
     },
     "execution_count": 34,
     "metadata": {},
     "output_type": "execute_result"
    },
    {
     "data": {
      "image/png": "[encoded data removed]",
      "text/plain": [
       "<Figure size 640x480 with 1 Axes>"
      ]
     },
     "metadata": {},
     "output_type": "display_data"
    }
   ],
   "source": [
    "sns.boxplot (food_df_2 ['Illnesses'])"
   ]
  },
  {
   "cell_type": "markdown",
   "id": "f77b0477",
   "metadata": {},
   "source": [
    "## Duplicates check"
   ]
  },
  {
   "cell_type": "code",
   "execution_count": 35,
   "id": "380d6022",
   "metadata": {},
   "outputs": [],
   "source": [
    "df_dups = food_df_2[food_df_2.duplicated()]"
   ]
  },
  {
   "cell_type": "code",
   "execution_count": 36,
   "id": "a0a1250d",
   "metadata": {},
   "outputs": [],
   "source": [
    "# No duplicates found"
   ]
  },
  {
   "cell_type": "markdown",
   "id": "f16e30b4",
   "metadata": {},
   "source": [
    "### Exporting df\n"
   ]
  },
  {
   "cell_type": "code",
   "execution_count": 38,
   "id": "14213e8c",
   "metadata": {},
   "outputs": [
    {
     "ename": "TypeError",
     "evalue": "join() got an unexpected keyword argument 'index'",
     "output_type": "error",
     "traceback": [
      "\u001b[1;31m---------------------------------------------------------------------------\u001b[0m",
      "\u001b[1;31mTypeError\u001b[0m                                 Traceback (most recent call last)",
      "Cell \u001b[1;32mIn[38], line 1\u001b[0m\n\u001b[1;32m----> 1\u001b[0m food_df_2\u001b[38;5;241m.\u001b[39mto_csv(os\u001b[38;5;241m.\u001b[39mpath\u001b[38;5;241m.\u001b[39mjoin(path, \u001b[38;5;124m'\u001b[39m\u001b[38;5;124mPrepared data\u001b[39m\u001b[38;5;124m'\u001b[39m \u001b[38;5;124m'\u001b[39m\u001b[38;5;124mfood_safety_cdc_2.csv\u001b[39m\u001b[38;5;124m'\u001b[39m, index \u001b[38;5;241m=\u001b[39m \u001b[38;5;28;01mFalse\u001b[39;00m))\n",
      "\u001b[1;31mTypeError\u001b[0m: join() got an unexpected keyword argument 'index'"
     ]
    }
   ],
   "source": [
    "food_df_2.to_csv(os.path.join(path, 'Prepared data' 'food_safety_cdc_2.csv', index = False))"
   ]
  },
  {
   "cell_type": "code",
   "execution_count": null,
   "id": "5de045cb",
   "metadata": {},
   "outputs": [],
   "source": []
  }
 ],
 "metadata": {
  "kernelspec": {
   "display_name": "Python 3 (ipykernel)",
   "language": "python",
   "name": "python3"
  },
  "language_info": {
   "codemirror_mode": {
    "name": "ipython",
    "version": 3
   },
   "file_extension": ".py",
   "mimetype": "text/x-python",
   "name": "python",
   "nbconvert_exporter": "python",
   "pygments_lexer": "ipython3",
   "version": "3.11.3"
  }
 },
 "nbformat": 4,
 "nbformat_minor": 5
}
